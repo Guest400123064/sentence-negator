{
 "cells": [
  {
   "cell_type": "code",
   "execution_count": 8,
   "metadata": {},
   "outputs": [],
   "source": [
    "import sys\n",
    "sys.path.append(\"..\")\n",
    "\n",
    "import datasets\n",
    "import pandas as pd\n",
    "\n",
    "from transformers import pipeline\n",
    "pipe = pipeline(\"text2text-generation\", \n",
    "                model=\"visheratin/t5-efficient-tiny-grammar-correction\",\n",
    "                max_length=256,\n",
    "                batch_size=16,\n",
    "                device=0)\n",
    "\n",
    "from src import antonym, G"
   ]
  },
  {
   "attachments": {},
   "cell_type": "markdown",
   "metadata": {},
   "source": [
    "1. Antonym modifier may not modify the correct adjective, e.g., modified quantifier \"last\" to \"first\".\n",
    "2. Some verbs may not have obvious antonym, e.g., \"doubled\".\n",
    "3. Antonym from synset directly may result in unnatural sentences.\n",
    "4. Wrong antonyms like \"rise-go_to_bad\" and \"receive-say_fare_well\"\n",
    "5. Using a seq2seq paraphraser like `pegasus` can make the sentence grammatically correct and more natural."
   ]
  },
  {
   "cell_type": "code",
   "execution_count": 17,
   "metadata": {},
   "outputs": [
    {
     "data": {
      "text/html": [
       "<div>\n",
       "<style scoped>\n",
       "    .dataframe tbody tr th:only-of-type {\n",
       "        vertical-align: middle;\n",
       "    }\n",
       "\n",
       "    .dataframe tbody tr th {\n",
       "        vertical-align: top;\n",
       "    }\n",
       "\n",
       "    .dataframe thead th {\n",
       "        text-align: right;\n",
       "    }\n",
       "</style>\n",
       "<table border=\"1\" class=\"dataframe\">\n",
       "  <thead>\n",
       "    <tr style=\"text-align: right;\">\n",
       "      <th></th>\n",
       "      <th>original</th>\n",
       "      <th>label</th>\n",
       "    </tr>\n",
       "  </thead>\n",
       "  <tbody>\n",
       "    <tr>\n",
       "      <th>0</th>\n",
       "      <td>Earnings per share ( EPS ) amounted to EUR1 .3...</td>\n",
       "      <td>negative</td>\n",
       "    </tr>\n",
       "    <tr>\n",
       "      <th>1</th>\n",
       "      <td>Kiosk and cinema operations have suffered , in...</td>\n",
       "      <td>negative</td>\n",
       "    </tr>\n",
       "    <tr>\n",
       "      <th>2</th>\n",
       "      <td>Last week , the Finnish metals and technology ...</td>\n",
       "      <td>positive</td>\n",
       "    </tr>\n",
       "    <tr>\n",
       "      <th>3</th>\n",
       "      <td>According to Karhinen , OP-Pohjola is an excit...</td>\n",
       "      <td>positive</td>\n",
       "    </tr>\n",
       "    <tr>\n",
       "      <th>4</th>\n",
       "      <td>Sales climbed 19.2 pct to 1.002 bln eur , surp...</td>\n",
       "      <td>positive</td>\n",
       "    </tr>\n",
       "    <tr>\n",
       "      <th>5</th>\n",
       "      <td>The Helsinki-based company , which also owns t...</td>\n",
       "      <td>positive</td>\n",
       "    </tr>\n",
       "    <tr>\n",
       "      <th>6</th>\n",
       "      <td>Since the association 's data do not cover sal...</td>\n",
       "      <td>negative</td>\n",
       "    </tr>\n",
       "    <tr>\n",
       "      <th>7</th>\n",
       "      <td>It also turned in earnings per share ( EPS ) o...</td>\n",
       "      <td>positive</td>\n",
       "    </tr>\n",
       "    <tr>\n",
       "      <th>8</th>\n",
       "      <td>Operating profit in the fourth quarter went do...</td>\n",
       "      <td>negative</td>\n",
       "    </tr>\n",
       "    <tr>\n",
       "      <th>9</th>\n",
       "      <td>Clothing chain Sepp+ñl+ñ 's net sales increase...</td>\n",
       "      <td>positive</td>\n",
       "    </tr>\n",
       "  </tbody>\n",
       "</table>\n",
       "</div>"
      ],
      "text/plain": [
       "                                            original     label\n",
       "0  Earnings per share ( EPS ) amounted to EUR1 .3...  negative\n",
       "1  Kiosk and cinema operations have suffered , in...  negative\n",
       "2  Last week , the Finnish metals and technology ...  positive\n",
       "3  According to Karhinen , OP-Pohjola is an excit...  positive\n",
       "4  Sales climbed 19.2 pct to 1.002 bln eur , surp...  positive\n",
       "5  The Helsinki-based company , which also owns t...  positive\n",
       "6  Since the association 's data do not cover sal...  negative\n",
       "7  It also turned in earnings per share ( EPS ) o...  positive\n",
       "8  Operating profit in the fourth quarter went do...  negative\n",
       "9  Clothing chain Sepp+ñl+ñ 's net sales increase...  positive"
      ]
     },
     "execution_count": 17,
     "metadata": {},
     "output_type": "execute_result"
    }
   ],
   "source": [
    "# Read in the Finance Phrasebank dataset\n",
    "dataset = pd.read_csv(\"../data/financial-phrasebank/Sentences_75Agree.txt\", \n",
    "                      names=[\"original\", \"label\"],\n",
    "                      encoding=\"iso-8859-1\",\n",
    "                      sep=\"@\",)\n",
    "dataset = dataset.loc[dataset[\"label\"] != \"neutral\"] \\\n",
    "            .sample(128, random_state=42) \\\n",
    "            .reset_index(drop=True)\n",
    "dataset.head(10)"
   ]
  },
  {
   "cell_type": "code",
   "execution_count": 21,
   "metadata": {},
   "outputs": [
    {
     "data": {
      "text/html": [
       "<div>\n",
       "<style scoped>\n",
       "    .dataframe tbody tr th:only-of-type {\n",
       "        vertical-align: middle;\n",
       "    }\n",
       "\n",
       "    .dataframe tbody tr th {\n",
       "        vertical-align: top;\n",
       "    }\n",
       "\n",
       "    .dataframe thead th {\n",
       "        text-align: right;\n",
       "    }\n",
       "</style>\n",
       "<table border=\"1\" class=\"dataframe\">\n",
       "  <thead>\n",
       "    <tr style=\"text-align: right;\">\n",
       "      <th></th>\n",
       "      <th>original</th>\n",
       "      <th>label</th>\n",
       "      <th>antonym_raw</th>\n",
       "      <th>has_any_replace</th>\n",
       "      <th>antonym</th>\n",
       "    </tr>\n",
       "  </thead>\n",
       "  <tbody>\n",
       "    <tr>\n",
       "      <th>0</th>\n",
       "      <td>Earnings per share ( EPS ) amounted to EUR1 .3...</td>\n",
       "      <td>negative</td>\n",
       "      <td>Earnings per share ( EPS ) amounted to EUR1 .3...</td>\n",
       "      <td>False</td>\n",
       "      <td>Earnings per share (EPS) amounted to EUR1 .37,...</td>\n",
       "    </tr>\n",
       "    <tr>\n",
       "      <th>1</th>\n",
       "      <td>Kiosk and cinema operations have suffered , in...</td>\n",
       "      <td>negative</td>\n",
       "      <td>Kiosk and cinema operations have enjoy , in pa...</td>\n",
       "      <td>True</td>\n",
       "      <td>Kiosk and cinema operations have enjoyed, in p...</td>\n",
       "    </tr>\n",
       "    <tr>\n",
       "      <th>2</th>\n",
       "      <td>Last week , the Finnish metals and technology ...</td>\n",
       "      <td>positive</td>\n",
       "      <td>first week , the Finnish metals and technology...</td>\n",
       "      <td>True</td>\n",
       "      <td>First week, the Finnish metals and technology ...</td>\n",
       "    </tr>\n",
       "    <tr>\n",
       "      <th>3</th>\n",
       "      <td>According to Karhinen , OP-Pohjola is an excit...</td>\n",
       "      <td>positive</td>\n",
       "      <td>According to Karhinen , OP-Pohjola is an unexc...</td>\n",
       "      <td>True</td>\n",
       "      <td>According to Karhinen, OP-Pohjola is an unexci...</td>\n",
       "    </tr>\n",
       "    <tr>\n",
       "      <th>4</th>\n",
       "      <td>Sales climbed 19.2 pct to 1.002 bln eur , surp...</td>\n",
       "      <td>positive</td>\n",
       "      <td>Sales wane 19.2 pct to 1.002 bln eur , surpass...</td>\n",
       "      <td>True</td>\n",
       "      <td>Sales wane 19.2 pct to 1.002 bln eur, surpassi...</td>\n",
       "    </tr>\n",
       "  </tbody>\n",
       "</table>\n",
       "</div>"
      ],
      "text/plain": [
       "                                            original     label  \\\n",
       "0  Earnings per share ( EPS ) amounted to EUR1 .3...  negative   \n",
       "1  Kiosk and cinema operations have suffered , in...  negative   \n",
       "2  Last week , the Finnish metals and technology ...  positive   \n",
       "3  According to Karhinen , OP-Pohjola is an excit...  positive   \n",
       "4  Sales climbed 19.2 pct to 1.002 bln eur , surp...  positive   \n",
       "\n",
       "                                         antonym_raw  has_any_replace  \\\n",
       "0  Earnings per share ( EPS ) amounted to EUR1 .3...            False   \n",
       "1  Kiosk and cinema operations have enjoy , in pa...             True   \n",
       "2  first week , the Finnish metals and technology...             True   \n",
       "3  According to Karhinen , OP-Pohjola is an unexc...             True   \n",
       "4  Sales wane 19.2 pct to 1.002 bln eur , surpass...             True   \n",
       "\n",
       "                                             antonym  \n",
       "0  Earnings per share (EPS) amounted to EUR1 .37,...  \n",
       "1  Kiosk and cinema operations have enjoyed, in p...  \n",
       "2  First week, the Finnish metals and technology ...  \n",
       "3  According to Karhinen, OP-Pohjola is an unexci...  \n",
       "4  Sales wane 19.2 pct to 1.002 bln eur, surpassi...  "
      ]
     },
     "execution_count": 21,
     "metadata": {},
     "output_type": "execute_result"
    }
   ],
   "source": [
    "# Do antonym replacement\n",
    "dataset[\"antonym_raw\"], dataset[\"has_any_replace\"] = \\\n",
    "    zip(*dataset[\"original\"].map(lambda x: antonym(x, is_sub_all=True)))\n",
    "\n",
    "# Apply the grammar correction model to the generated texts\n",
    "dataset[\"antonym\"] = [o[\"generated_text\"] for o in pipe(dataset[\"antonym_raw\"].tolist())]\n",
    "dataset.head()"
   ]
  },
  {
   "cell_type": "code",
   "execution_count": 25,
   "metadata": {},
   "outputs": [
    {
     "data": {
      "text/plain": [
       "['The Finnish supplier of BSS-OSS and VAS for telecom operators , Tecnotree , has received expansion orders worth a total US$ 7.3 mn for its convergent charging and next generation messaging solutions in Latin America , the company announced without specifying which operators had placed the orders .',\n",
       " 'positive',\n",
       " 'The Finnish supplier of BSS-OSS and VAS for telecom operators , Tecnotree , has say_farewell contraction disorder worthlessness a total US $ 7.3 mn for its convergent charging and next generation messaging solutions in Latin America , the company announced without generalize which operators had divest the disorder .',\n",
       " True,\n",
       " 'The Finnish supplier of BSS-OSS and VAS for telecom operators, Tecnotree, has say_farewell contraction disorder worthlessness a total US$7.3 mn for its convergent charging and next generation messaging solutions in Latin America, the company announced without generalizing which operators had divest the disorder.']"
      ]
     },
     "execution_count": 25,
     "metadata": {},
     "output_type": "execute_result"
    }
   ],
   "source": [
    "dataset.loc[64].values.tolist()"
   ]
  },
  {
   "cell_type": "code",
   "execution_count": null,
   "metadata": {},
   "outputs": [],
   "source": []
  }
 ],
 "metadata": {
  "kernelspec": {
   "display_name": "wharton",
   "language": "python",
   "name": "python3"
  },
  "language_info": {
   "codemirror_mode": {
    "name": "ipython",
    "version": 3
   },
   "file_extension": ".py",
   "mimetype": "text/x-python",
   "name": "python",
   "nbconvert_exporter": "python",
   "pygments_lexer": "ipython3",
   "version": "3.9.13"
  },
  "orig_nbformat": 4,
  "vscode": {
   "interpreter": {
    "hash": "0953b9f2ee8bbbe4477fa89422ceadd49d5fe44d6fd9d7cb5db72bb439c5570f"
   }
  }
 },
 "nbformat": 4,
 "nbformat_minor": 2
}
